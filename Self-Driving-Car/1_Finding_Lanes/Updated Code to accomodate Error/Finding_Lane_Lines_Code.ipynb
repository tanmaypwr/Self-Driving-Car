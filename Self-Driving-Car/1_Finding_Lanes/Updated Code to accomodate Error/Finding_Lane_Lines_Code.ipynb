{
  "nbformat": 4,
  "nbformat_minor": 0,
  "metadata": {
    "colab": {
      "name": "Finding Lane Lines Code.ipynb",
      "provenance": []
    },
    "kernelspec": {
      "name": "python3",
      "display_name": "Python 3"
    }
  },
  "cells": [
    {
      "cell_type": "code",
      "metadata": {
        "id": "BhKw2kgJbDNN",
        "colab_type": "code",
        "colab": {}
      },
      "source": [
        "import cv2\n",
        "import numpy as np\n",
        " \n",
        "def make_points(image, line):\n",
        "    slope, intercept = line\n",
        "    y1 = int(image.shape[0])# bottom of the image\n",
        "    y2 = int(y1*3/5)         # slightly lower than the middle\n",
        "    x1 = int((y1 - intercept)/slope)\n",
        "    x2 = int((y2 - intercept)/slope)\n",
        "    return [[x1, y1, x2, y2]]\n",
        " \n",
        "def average_slope_intercept(image, lines):\n",
        "    left_fit    = []\n",
        "    right_fit   = []\n",
        "    if lines is None:\n",
        "        return None\n",
        "    for line in lines:\n",
        "        for x1, y1, x2, y2 in line:\n",
        "            fit = np.polyfit((x1,x2), (y1,y2), 1)\n",
        "            slope = fit[0]\n",
        "            intercept = fit[1]\n",
        "            if slope < 0: # y is reversed in image\n",
        "                left_fit.append((slope, intercept))\n",
        "            else:\n",
        "                right_fit.append((slope, intercept))\n",
        "    # add more weight to longer lines\n",
        "    left_fit_average  = np.average(left_fit, axis=0)\n",
        "    right_fit_average = np.average(right_fit, axis=0)\n",
        "    left_line  = make_points(image, left_fit_average)\n",
        "    right_line = make_points(image, right_fit_average)\n",
        "    averaged_lines = [left_line, right_line]\n",
        "    return averaged_lines\n",
        " \n",
        "def canny(img):\n",
        "    gray = cv2.cvtColor(img, cv2.COLOR_RGB2GRAY)\n",
        "    kernel = 5\n",
        "    blur = cv2.GaussianBlur(gray,(kernel, kernel),0)\n",
        "    canny = cv2.Canny(gray, 50, 150)\n",
        "    return canny\n",
        " \n",
        "def display_lines(img,lines):\n",
        "    line_image = np.zeros_like(img)\n",
        "    if lines is not None:\n",
        "        for line in lines:\n",
        "            for x1, y1, x2, y2 in line:\n",
        "                cv2.line(line_image,(x1,y1),(x2,y2),(255,0,0),10)\n",
        "    return line_image\n",
        " \n",
        "def region_of_interest(canny):\n",
        "    height = canny.shape[0]\n",
        "    width = canny.shape[1]\n",
        "    mask = np.zeros_like(canny)\n",
        " \n",
        "    triangle = np.array([[\n",
        "    (200, height),\n",
        "    (550, 250),\n",
        "    (1100, height),]], np.int32)\n",
        " \n",
        "    cv2.fillPoly(mask, triangle, 255)\n",
        "    masked_image = cv2.bitwise_and(canny, mask)\n",
        "    return masked_image\n",
        " \n",
        " \n",
        "# image = cv2.imread('test_image.jpg')\n",
        "# lane_image = np.copy(image)\n",
        "# lane_canny = canny(lane_image)\n",
        "# cropped_canny = region_of_interest(lane_canny)\n",
        "# lines = cv2.HoughLinesP(cropped_canny, 2, np.pi/180, 100, np.array([]), minLineLength=40,maxLineGap=5)\n",
        "# averaged_lines = average_slope_intercept(image, lines)\n",
        "# line_image = display_lines(lane_image, averaged_lines)\n",
        "# combo_image = cv2.addWeighted(lane_image, 0.8, line_image, 1, 0)\n",
        " \n",
        "#\n",
        "cap = cv2.VideoCapture(\"test2.mp4\")\n",
        "while(cap.isOpened()):\n",
        "    _, frame = cap.read()\n",
        "    canny_image = canny(frame)\n",
        "    cropped_canny = region_of_interest(canny_image)\n",
        "    lines = cv2.HoughLinesP(cropped_canny, 2, np.pi/180, 100, np.array([]), minLineLength=40,maxLineGap=5)\n",
        "    averaged_lines = average_slope_intercept(frame, lines)\n",
        "    line_image = display_lines(frame, averaged_lines)\n",
        "    combo_image = cv2.addWeighted(frame, 0.8, line_image, 1, 1)\n",
        "    cv2.imshow(\"result\", combo_image)\n",
        "    if cv2.waitKey(1) & 0xFF == ord('q'):\n",
        "        break\n",
        "cap.release()\n",
        "cv2.destroyAllWindows()"
      ],
      "execution_count": 0,
      "outputs": []
    },
    {
      "cell_type": "markdown",
      "metadata": {
        "id": "DHSjt3CubXoH",
        "colab_type": "text"
      },
      "source": [
        "I am aware of the Numpy.float64 crash that occurs later into the video. The following code is a quick and dirty way of executing the code in both left and right fits. Try this code (replace it with the other code appropriately),"
      ]
    },
    {
      "cell_type": "code",
      "metadata": {
        "id": "ir_qWtVOb0KR",
        "colab_type": "code",
        "colab": {}
      },
      "source": [
        "\n",
        "    if len(left_fit) and len(right_fit):\n",
        "    ##over-simplified if statement (should give you an idea of why the error occurs)\n",
        "        left_fit_average  = np.average(left_fit, axis=0)\n",
        "        right_fit_average = np.average(right_fit, axis=0)\n",
        "        left_line  = make_points(image, left_fit_average)\n",
        "        right_line = make_points(image, right_fit_average)\n",
        "        averaged_lines = [left_line, right_line]\n",
        "        return averaged_lines"
      ],
      "execution_count": 0,
      "outputs": []
    },
    {
      "cell_type": "markdown",
      "metadata": {
        "id": "7gDiiZVSb_ys",
        "colab_type": "text"
      },
      "source": [
        "The other crash which occurs when end of the video is reached can be remedied with a simple condition on the ret value\n"
      ]
    },
    {
      "cell_type": "code",
      "metadata": {
        "id": "plUyQ_VvcIEG",
        "colab_type": "code",
        "colab": {}
      },
      "source": [
        "cap = cv2.VideoCapture(\"test2.mp4\")\n",
        "while(cap.isOpened()):\n",
        "    ret, frame = cap.read()\n",
        "    if ret == True:\n",
        "        canny_image = canny(frame)\n",
        "        cropped_canny = region_of_interest(canny_image)\n",
        "        lines = cv2.HoughLinesP(cropped_canny, 2, np.pi/180, 100, np.array([]), minLineLength=40,maxLineGap=5)\n",
        "        averaged_lines = average_slope_intercept(frame, lines)\n",
        "        line_image = display_lines(frame, averaged_lines)\n",
        "        combo_image = cv2.addWeighted(frame, 0.8, line_image, 1, 1)\n",
        "        cv2.imshow(\"result\", combo_image)\n",
        "        if cv2.waitKey(10) & 0xFF == ord('q'):\n",
        "            break\n",
        "    else:\n",
        "        break\n",
        "cap.release()\n",
        "cv2.destroyAllWindows() "
      ],
      "execution_count": 0,
      "outputs": []
    },
    {
      "cell_type": "markdown",
      "metadata": {
        "id": "u469mJQYcYi_",
        "colab_type": "text"
      },
      "source": [
        "Note that this section was only to get your familiar with computer vision techniques which we will later use in the final section of the course. Don't get too fixated on this code itself. Just make sure you understand the theoretical aspect for the further, more important sections."
      ]
    },
    {
      "cell_type": "code",
      "metadata": {
        "id": "c-_UMf03clfD",
        "colab_type": "code",
        "colab": {}
      },
      "source": [
        ""
      ],
      "execution_count": 0,
      "outputs": []
    }
  ]
}